{
  "nbformat": 4,
  "nbformat_minor": 0,
  "metadata": {
    "colab": {
      "name": "RegularExpression.ipynb",
      "provenance": [],
      "include_colab_link": true
    },
    "kernelspec": {
      "name": "python3",
      "display_name": "Python 3"
    }
  },
  "cells": [
    {
      "cell_type": "markdown",
      "metadata": {
        "id": "view-in-github",
        "colab_type": "text"
      },
      "source": [
        "<a href=\"https://colab.research.google.com/github/nikhilkumar238/PFDS/blob/master/RegularExpression.ipynb\" target=\"_parent\"><img src=\"https://colab.research.google.com/assets/colab-badge.svg\" alt=\"Open In Colab\"/></a>"
      ]
    },
    {
      "cell_type": "code",
      "metadata": {
        "id": "ydTMNNDlhY5q",
        "colab_type": "code",
        "colab": {}
      },
      "source": [
        "import re\n",
        "greeting = \"hello world\"\n",
        "re.search(r\"x\", greeting)\n",
        "re.search(r\"x\", \"exit\")"
      ],
      "execution_count": 0,
      "outputs": []
    },
    {
      "cell_type": "code",
      "metadata": {
        "id": "xvQjYMkxh0XI",
        "colab_type": "code",
        "colab": {}
      },
      "source": [
        "re.search(\"[aeiou]\", greeting)"
      ],
      "execution_count": 0,
      "outputs": []
    },
    {
      "cell_type": "code",
      "metadata": {
        "id": "IEdCeO1siEuX",
        "colab_type": "code",
        "colab": {}
      },
      "source": [
        "re.search(r\"[0123456789]\", \"rhythm\")"
      ],
      "execution_count": 0,
      "outputs": []
    },
    {
      "cell_type": "code",
      "metadata": {
        "id": "zCIKnOBLiq41",
        "colab_type": "code",
        "colab": {}
      },
      "source": [
        "re.search(r\"[0123456789]\",\"$100\")"
      ],
      "execution_count": 0,
      "outputs": []
    },
    {
      "cell_type": "code",
      "metadata": {
        "id": "Ie2rc5D6i0MG",
        "colab_type": "code",
        "colab": {}
      },
      "source": [
        "re.search(r\"[0-9]\", \"$100\")"
      ],
      "execution_count": 0,
      "outputs": []
    },
    {
      "cell_type": "code",
      "metadata": {
        "id": "Hcy-z7HPi7KO",
        "colab_type": "code",
        "colab": {}
      },
      "source": [
        "re.search(r\"[a-z]\", \"$100\")"
      ],
      "execution_count": 0,
      "outputs": []
    },
    {
      "cell_type": "code",
      "metadata": {
        "id": "jbTqM6S3jAwT",
        "colab_type": "code",
        "colab": {}
      },
      "source": [
        "re.search(r\"[a-z]\", \"rythm\")"
      ],
      "execution_count": 0,
      "outputs": []
    },
    {
      "cell_type": "code",
      "metadata": {
        "id": "q8LHww4JjFVk",
        "colab_type": "code",
        "colab": {}
      },
      "source": [
        "re.search(\"[a-zA-Z0-9]\",\"rhytmE\")"
      ],
      "execution_count": 0,
      "outputs": []
    },
    {
      "cell_type": "code",
      "metadata": {
        "id": "MKPXaKGdjRe7",
        "colab_type": "code",
        "colab": {}
      },
      "source": [
        "re.search(\"[a-zA-Z0-9]\",\"rhytmE\").start()"
      ],
      "execution_count": 0,
      "outputs": []
    },
    {
      "cell_type": "code",
      "metadata": {
        "id": "gnRnXv6PjVTy",
        "colab_type": "code",
        "colab": {}
      },
      "source": [
        "re.search(\"[a-zA-Z0-9]\",\"rhytmE\").end()"
      ],
      "execution_count": 0,
      "outputs": []
    },
    {
      "cell_type": "code",
      "metadata": {
        "id": "00sLvbGojWl1",
        "colab_type": "code",
        "colab": {}
      },
      "source": [
        "re.search(r\"[^0-9]\", \"$100\")"
      ],
      "execution_count": 0,
      "outputs": []
    },
    {
      "cell_type": "code",
      "metadata": {
        "id": "YTB6L-U9jiCu",
        "colab_type": "code",
        "colab": {}
      },
      "source": [
        "re.search(r\"[0-9^]\", \"$100\")"
      ],
      "execution_count": 0,
      "outputs": []
    },
    {
      "cell_type": "code",
      "metadata": {
        "id": "b3nFmeDMjosf",
        "colab_type": "code",
        "colab": {}
      },
      "source": [
        "re.search(r\"a\", \"hiya\")"
      ],
      "execution_count": 0,
      "outputs": []
    },
    {
      "cell_type": "code",
      "metadata": {
        "id": "bTBQhcCzkLJT",
        "colab_type": "code",
        "colab": {}
      },
      "source": [
        "re.search(r\"^a\", \"hiya\")"
      ],
      "execution_count": 0,
      "outputs": []
    },
    {
      "cell_type": "code",
      "metadata": {
        "id": "radFGK81kQeJ",
        "colab_type": "code",
        "colab": {}
      },
      "source": [
        "re.search(r\"^a\", \"and\")"
      ],
      "execution_count": 0,
      "outputs": []
    },
    {
      "cell_type": "code",
      "metadata": {
        "id": "TQ1G_aQEkUjm",
        "colab_type": "code",
        "colab": {}
      },
      "source": [
        "re.search(r\"a$\", \"hiya\")"
      ],
      "execution_count": 0,
      "outputs": []
    },
    {
      "cell_type": "code",
      "metadata": {
        "id": "P1IBsowUka-N",
        "colab_type": "code",
        "colab": {}
      },
      "source": [
        "re.search(r\"^a$\", \"and\")"
      ],
      "execution_count": 0,
      "outputs": []
    },
    {
      "cell_type": "code",
      "metadata": {
        "id": "VWIBaRDJkhmv",
        "colab_type": "code",
        "colab": {}
      },
      "source": [
        "re.search(r\"^a$\", \"a\")"
      ],
      "execution_count": 0,
      "outputs": []
    },
    {
      "cell_type": "code",
      "metadata": {
        "id": "yjz18l95knkT",
        "colab_type": "code",
        "colab": {}
      },
      "source": [
        "re.search(r\"^a$\", \"anna\")"
      ],
      "execution_count": 0,
      "outputs": []
    },
    {
      "cell_type": "code",
      "metadata": {
        "id": "nYoOzti9k45x",
        "colab_type": "code",
        "colab": {}
      },
      "source": [
        "re.search(r\"\\[hello\\]\", \"h\")"
      ],
      "execution_count": 0,
      "outputs": []
    },
    {
      "cell_type": "code",
      "metadata": {
        "id": "XNml-2Eqlk2I",
        "colab_type": "code",
        "colab": {}
      },
      "source": [
        "re.search(r\"[hello]\",\"h\")"
      ],
      "execution_count": 0,
      "outputs": []
    },
    {
      "cell_type": "code",
      "metadata": {
        "id": "cZTGx6Vblnxl",
        "colab_type": "code",
        "colab": {}
      },
      "source": [
        "re.search(r\"\\[hello\\]\", \"[hello]\")"
      ],
      "execution_count": 0,
      "outputs": []
    },
    {
      "cell_type": "code",
      "metadata": {
        "id": "D9RewJlmnBVw",
        "colab_type": "code",
        "colab": {}
      },
      "source": [
        "re.search(r\"$100\", \"$100\")"
      ],
      "execution_count": 0,
      "outputs": []
    },
    {
      "cell_type": "code",
      "metadata": {
        "id": "h1YfNQevnRGt",
        "colab_type": "code",
        "colab": {}
      },
      "source": [
        "re.search(r\"\\$100\", \"$100\")"
      ],
      "execution_count": 0,
      "outputs": []
    },
    {
      "cell_type": "code",
      "metadata": {
        "id": "NP9S5yQ6nUXN",
        "colab_type": "code",
        "colab": {}
      },
      "source": [
        "re.search(r\".\", greeting)"
      ],
      "execution_count": 0,
      "outputs": []
    },
    {
      "cell_type": "code",
      "metadata": {
        "id": "22lQ1UlvphjH",
        "colab_type": "code",
        "colab": {}
      },
      "source": [
        "re.search(r\"a.z\",greeting)"
      ],
      "execution_count": 0,
      "outputs": []
    },
    {
      "cell_type": "code",
      "metadata": {
        "id": "cBvGEWIBpn8W",
        "colab_type": "code",
        "colab": {}
      },
      "source": [
        "re.search(r\"a.z\", \"abz\")"
      ],
      "execution_count": 0,
      "outputs": []
    },
    {
      "cell_type": "code",
      "metadata": {
        "id": "LSV5mRQIpq_n",
        "colab_type": "code",
        "colab": {}
      },
      "source": [
        "re.search(r\"a.z\",\"wa zo\")"
      ],
      "execution_count": 0,
      "outputs": []
    },
    {
      "cell_type": "code",
      "metadata": {
        "id": "HqO1Eav_pvzD",
        "colab_type": "code",
        "colab": {}
      },
      "source": [
        "re.search(r\"a.z\", \"waza\")"
      ],
      "execution_count": 0,
      "outputs": []
    },
    {
      "cell_type": "code",
      "metadata": {
        "id": "wvFkEiiMp0sn",
        "colab_type": "code",
        "colab": {}
      },
      "source": [
        "re.search(r\"a.z\",\"wa zo\").start()"
      ],
      "execution_count": 0,
      "outputs": []
    },
    {
      "cell_type": "code",
      "metadata": {
        "id": "r4CxDyK5p7lB",
        "colab_type": "code",
        "colab": {}
      },
      "source": [
        "re.search(r\"a.z\",\"wa zo\").end()"
      ],
      "execution_count": 0,
      "outputs": []
    },
    {
      "cell_type": "code",
      "metadata": {
        "id": "qo8b4WH9p-6E",
        "colab_type": "code",
        "colab": {}
      },
      "source": [
        "re.search(r\"a.z\",\"wa zo\").group()"
      ],
      "execution_count": 0,
      "outputs": []
    },
    {
      "cell_type": "code",
      "metadata": {
        "id": "z1XilO4kqC11",
        "colab_type": "code",
        "colab": {}
      },
      "source": [
        "re.search(r\"^a$\", \"anna\")"
      ],
      "execution_count": 0,
      "outputs": []
    },
    {
      "cell_type": "code",
      "metadata": {
        "id": "v6pHmKrA7ZnW",
        "colab_type": "code",
        "colab": {}
      },
      "source": [
        "re.search(r\"^a..a$\", \"anna\")"
      ],
      "execution_count": 0,
      "outputs": []
    },
    {
      "cell_type": "code",
      "metadata": {
        "id": "Ty11NN4c7cBY",
        "colab_type": "code",
        "colab": {}
      },
      "source": [
        "re.search(r\"^a.a$\", \"anna\")"
      ],
      "execution_count": 0,
      "outputs": []
    },
    {
      "cell_type": "code",
      "metadata": {
        "id": "5222O7_t7cwP",
        "colab_type": "code",
        "colab": {}
      },
      "source": [
        "re.search(r\"^a..a$\", \"anna\")"
      ],
      "execution_count": 0,
      "outputs": []
    },
    {
      "cell_type": "code",
      "metadata": {
        "id": "Kdt73Yzn7exo",
        "colab_type": "code",
        "colab": {}
      },
      "source": [
        "re.search(r\"^a...a$\", \"anna\")"
      ],
      "execution_count": 0,
      "outputs": []
    },
    {
      "cell_type": "code",
      "metadata": {
        "id": "hnar2Dhy7gl9",
        "colab_type": "code",
        "colab": {}
      },
      "source": [
        "re.search(r\"^a.*$\", \"anna\")"
      ],
      "execution_count": 0,
      "outputs": []
    },
    {
      "cell_type": "code",
      "metadata": {
        "id": "TdGNVmpB7hNQ",
        "colab_type": "code",
        "colab": {}
      },
      "source": [
        "re.search(r\"^a.*$\", \"aa\")"
      ],
      "execution_count": 0,
      "outputs": []
    },
    {
      "cell_type": "code",
      "metadata": {
        "id": "xN7o1nf47hm9",
        "colab_type": "code",
        "colab": {}
      },
      "source": [
        "re.search(r\"^a.*a$\", \"aa\")"
      ],
      "execution_count": 0,
      "outputs": []
    },
    {
      "cell_type": "code",
      "metadata": {
        "id": "Z3JN2SSu7h3c",
        "colab_type": "code",
        "colab": {}
      },
      "source": [
        "re.search(r\"^a.*a$\", \"ana\")"
      ],
      "execution_count": 0,
      "outputs": []
    },
    {
      "cell_type": "code",
      "metadata": {
        "id": "4yaOOQJN7iGA",
        "colab_type": "code",
        "colab": {}
      },
      "source": [
        "re.search(r\"^a.*$\", \"anna\")"
      ],
      "execution_count": 0,
      "outputs": []
    },
    {
      "cell_type": "code",
      "metadata": {
        "id": "mzKBuQVA7iTW",
        "colab_type": "code",
        "colab": {}
      },
      "source": [
        "re.search(r\"^a.*a$\", \"abca\")"
      ],
      "execution_count": 0,
      "outputs": []
    },
    {
      "cell_type": "code",
      "metadata": {
        "id": "GFpM95yJ7ipq",
        "colab_type": "code",
        "colab": {}
      },
      "source": [
        "re.search(r\"^an*a$\", \"anna\")"
      ],
      "execution_count": 0,
      "outputs": []
    },
    {
      "cell_type": "code",
      "metadata": {
        "id": "FEUDbQSy7i5G",
        "colab_type": "code",
        "colab": {}
      },
      "source": [
        "re.search(r\"\")"
      ],
      "execution_count": 0,
      "outputs": []
    },
    {
      "cell_type": "code",
      "metadata": {
        "id": "OM7LPzKN7jIs",
        "colab_type": "code",
        "colab": {}
      },
      "source": [
        "re.search(r\"^a.+a$\", \"aa\")"
      ],
      "execution_count": 0,
      "outputs": []
    },
    {
      "cell_type": "code",
      "metadata": {
        "id": "i-arl2hY7jbd",
        "colab_type": "code",
        "colab": {}
      },
      "source": [
        "re.search(r\"^a.+a$\",\"ana\")"
      ],
      "execution_count": 0,
      "outputs": []
    },
    {
      "cell_type": "code",
      "metadata": {
        "id": "KkwaECS67j1l",
        "colab_type": "code",
        "colab": {}
      },
      "source": [
        "re.search(r\"^a.+a$\", \"abcaa\")"
      ],
      "execution_count": 0,
      "outputs": []
    },
    {
      "cell_type": "code",
      "metadata": {
        "id": "6DWFCa907kSj",
        "colab_type": "code",
        "colab": {}
      },
      "source": [
        "re.search(r\"colour\", \"what a nice color\")"
      ],
      "execution_count": 0,
      "outputs": []
    },
    {
      "cell_type": "code",
      "metadata": {
        "id": "pSGxgKoT7kig",
        "colab_type": "code",
        "colab": {}
      },
      "source": [
        "re.search(r\"colou?r\",\"What a nice color\")"
      ],
      "execution_count": 0,
      "outputs": []
    },
    {
      "cell_type": "code",
      "metadata": {
        "id": "IaMvl3Nu7kwe",
        "colab_type": "code",
        "colab": {}
      },
      "source": [
        "re.search(r\"colou?+r\",\"what a nice colour\")"
      ],
      "execution_count": 0,
      "outputs": []
    },
    {
      "cell_type": "code",
      "metadata": {
        "id": "m0iOdi_97k_u",
        "colab_type": "code",
        "colab": {}
      },
      "source": [
        "re.search(r\"colou+?r\",\"what a nice colour\")"
      ],
      "execution_count": 0,
      "outputs": []
    },
    {
      "cell_type": "code",
      "metadata": {
        "id": "7GsvQgVz7lO4",
        "colab_type": "code",
        "colab": {}
      },
      "source": [
        "re.search(r\"[0-9]\", \"$100\")"
      ],
      "execution_count": 0,
      "outputs": []
    },
    {
      "cell_type": "code",
      "metadata": {
        "id": "6qSvKI8v7le8",
        "colab_type": "code",
        "colab": {}
      },
      "source": [
        "re.search(r\"[0-9].+\", \"$100\")"
      ],
      "execution_count": 0,
      "outputs": []
    },
    {
      "cell_type": "code",
      "metadata": {
        "id": "WgmWJyxZ7lst",
        "colab_type": "code",
        "colab": {}
      },
      "source": [
        "re.search(r\"[0-9].*\",\"$100\")"
      ],
      "execution_count": 0,
      "outputs": []
    },
    {
      "cell_type": "code",
      "metadata": {
        "id": "HjBdHOd57l6U",
        "colab_type": "code",
        "colab": {}
      },
      "source": [
        "#one or more of dot\n",
        "re.search(r\"[0-9].*\",\"$10a0\")"
      ],
      "execution_count": 0,
      "outputs": []
    },
    {
      "cell_type": "code",
      "metadata": {
        "id": "i-QJpJR-7mHQ",
        "colab_type": "code",
        "colab": {}
      },
      "source": [
        "#one or more of d\n",
        "re.search(r\"\\d+\", \"$100\")"
      ],
      "execution_count": 0,
      "outputs": []
    },
    {
      "cell_type": "code",
      "metadata": {
        "id": "Mx0V86F27mTn",
        "colab_type": "code",
        "colab": {}
      },
      "source": [
        "re.search(r\"[^0-9]\",\"$100\")"
      ],
      "execution_count": 0,
      "outputs": []
    },
    {
      "cell_type": "code",
      "metadata": {
        "id": "ZvEGobGM7miB",
        "colab_type": "code",
        "colab": {}
      },
      "source": [
        "re.search(r\"[^\\D]\",\"$100\")"
      ],
      "execution_count": 0,
      "outputs": []
    },
    {
      "cell_type": "code",
      "metadata": {
        "id": "1glMRTAL7m31",
        "colab_type": "code",
        "colab": {}
      },
      "source": [
        "re.search(r\"\\w\",\"hello\")"
      ],
      "execution_count": 0,
      "outputs": []
    },
    {
      "cell_type": "code",
      "metadata": {
        "id": "H-Is4KAH7nEJ",
        "colab_type": "code",
        "colab": {}
      },
      "source": [
        "re.search(r\"\\w+\",\"hello\")"
      ],
      "execution_count": 0,
      "outputs": []
    },
    {
      "cell_type": "code",
      "metadata": {
        "id": "sym4oupu7nQY",
        "colab_type": "code",
        "colab": {}
      },
      "source": [
        "re.search(r\"\\w+\",\"hello there\")"
      ],
      "execution_count": 0,
      "outputs": []
    },
    {
      "cell_type": "code",
      "metadata": {
        "id": "Wap-65747naw",
        "colab_type": "code",
        "colab": {}
      },
      "source": [
        "#\\w is equal to [A-Za-z0-9_]\n",
        "re.search(r\"\\w+\",\"hello_there\")"
      ],
      "execution_count": 0,
      "outputs": []
    },
    {
      "cell_type": "code",
      "metadata": {
        "id": "htXlt9Je7nkZ",
        "colab_type": "code",
        "colab": {}
      },
      "source": [
        "re.search(r\"[A-Za-z0-9_]+\",\"hello_there\")"
      ],
      "execution_count": 0,
      "outputs": []
    },
    {
      "cell_type": "code",
      "metadata": {
        "id": "lwqn3sXP7oRC",
        "colab_type": "code",
        "colab": {}
      },
      "source": [
        "re.search(r\"\\w+\",\"hell0 there\")"
      ],
      "execution_count": 0,
      "outputs": []
    },
    {
      "cell_type": "code",
      "metadata": {
        "id": "_4UVhwRc7ocr",
        "colab_type": "code",
        "colab": {}
      },
      "source": [
        "re.search(r\"\\W+\",\"hello there\")"
      ],
      "execution_count": 0,
      "outputs": []
    },
    {
      "cell_type": "code",
      "metadata": {
        "id": "-uZ4O-Ji7onq",
        "colab_type": "code",
        "colab": {}
      },
      "source": [
        "re.search(r\"\\W+\",\"hell0_there\") #match nothing"
      ],
      "execution_count": 0,
      "outputs": []
    },
    {
      "cell_type": "code",
      "metadata": {
        "id": "ZNP2wyXA7ozG",
        "colab_type": "code",
        "colab": {}
      },
      "source": [
        "re.search(r\"\\W*\",\"hell0_there\")\n",
        " #one or more will at return space always"
      ],
      "execution_count": 0,
      "outputs": []
    },
    {
      "cell_type": "code",
      "metadata": {
        "id": "GgnXPAcH7o8W",
        "colab_type": "code",
        "colab": {}
      },
      "source": [
        "re.search(r\" \",\"hell0 there\")"
      ],
      "execution_count": 0,
      "outputs": []
    },
    {
      "cell_type": "code",
      "metadata": {
        "id": "X4UkZClQ7pHc",
        "colab_type": "code",
        "colab": {}
      },
      "source": [
        "re.search(r\"[ \\n\\t\\r\\v]\",\"hell0 there\")"
      ],
      "execution_count": 0,
      "outputs": []
    },
    {
      "cell_type": "code",
      "metadata": {
        "id": "FztKeMoI7pdo",
        "colab_type": "code",
        "colab": {}
      },
      "source": [
        "re.search(r\"\\s\",\"hell0 there\")"
      ],
      "execution_count": 0,
      "outputs": []
    },
    {
      "cell_type": "code",
      "metadata": {
        "id": "9nbePeJL7poN",
        "colab_type": "code",
        "colab": {}
      },
      "source": [
        "re.search(r\"\\s\",\"hell0_there\\n\")"
      ],
      "execution_count": 0,
      "outputs": []
    },
    {
      "cell_type": "code",
      "metadata": {
        "id": "xylD6hzK7p8A",
        "colab_type": "code",
        "colab": {}
      },
      "source": [
        "re.search(r\"\\s\",\"hell0 there\\n\")"
      ],
      "execution_count": 0,
      "outputs": []
    },
    {
      "cell_type": "code",
      "metadata": {
        "id": "tBCrHPIr7qG1",
        "colab_type": "code",
        "colab": {}
      },
      "source": [
        "re.search(r\"\\S\",\"hell0 there\")"
      ],
      "execution_count": 0,
      "outputs": []
    },
    {
      "cell_type": "code",
      "metadata": {
        "id": "FY4joSIu7qRM",
        "colab_type": "code",
        "colab": {}
      },
      "source": [
        "#\\b word boundary\n",
        "re.search(r\"\\bhello\\b\",\"hello\")"
      ],
      "execution_count": 0,
      "outputs": []
    },
    {
      "cell_type": "code",
      "metadata": {
        "id": "8Fx34PSx7qcC",
        "colab_type": "code",
        "colab": {}
      },
      "source": [
        "re.search(r\"\\bhello\\b\",\"hello there\")"
      ],
      "execution_count": 0,
      "outputs": []
    },
    {
      "cell_type": "code",
      "metadata": {
        "id": "xS5v1k7T7qll",
        "colab_type": "code",
        "colab": {}
      },
      "source": [
        "re.search(r\"\\bhello\\b\",\"hello_there\")\n"
      ],
      "execution_count": 0,
      "outputs": []
    },
    {
      "cell_type": "code",
      "metadata": {
        "id": "wy2MG9FreCk3",
        "colab_type": "code",
        "colab": {}
      },
      "source": [
        "re.search(r\"\\bhello\\b\",\"hello^there\")"
      ],
      "execution_count": 0,
      "outputs": []
    },
    {
      "cell_type": "code",
      "metadata": {
        "id": "vxuxy4x0eDJP",
        "colab_type": "code",
        "colab": {}
      },
      "source": [
        "re.search(r\"\\bhello\\b\",\"hello0there\")"
      ],
      "execution_count": 0,
      "outputs": []
    },
    {
      "cell_type": "code",
      "metadata": {
        "id": "G2GAsJKDeE1A",
        "colab_type": "code",
        "colab": {}
      },
      "source": [
        "re.search(r\"\\bhello\\b\",\"hello-there\")"
      ],
      "execution_count": 0,
      "outputs": []
    },
    {
      "cell_type": "code",
      "metadata": {
        "id": "xxfEpmN6eFgX",
        "colab_type": "code",
        "colab": {}
      },
      "source": [
        "re.search(r\"\\bhello\\b\",\"-hello\")#imp"
      ],
      "execution_count": 0,
      "outputs": []
    },
    {
      "cell_type": "code",
      "metadata": {
        "id": "fa7ZiWNveF31",
        "colab_type": "code",
        "colab": {}
      },
      "source": [
        "re.search(r\"\\bhello\",\"_hello\")#imp"
      ],
      "execution_count": 0,
      "outputs": []
    },
    {
      "cell_type": "code",
      "metadata": {
        "id": "OnlXBHN2eGJc",
        "colab_type": "code",
        "colab": {}
      },
      "source": [
        "re.search(r\"\\bhello\\b\",\"hello\")"
      ],
      "execution_count": 0,
      "outputs": []
    },
    {
      "cell_type": "code",
      "metadata": {
        "id": "J5URpHTKeGZj",
        "colab_type": "code",
        "colab": {}
      },
      "source": [
        "re.search(r\"[0-9]\",\"90201\")"
      ],
      "execution_count": 0,
      "outputs": []
    },
    {
      "cell_type": "code",
      "metadata": {
        "id": "1PHk-dZweGqG",
        "colab_type": "code",
        "colab": {}
      },
      "source": [
        "re.search(r\"\\d\\d\\d\\d\\d\",\"90201\")"
      ],
      "execution_count": 0,
      "outputs": []
    },
    {
      "cell_type": "code",
      "metadata": {
        "id": "wGVZfGg4eG5p",
        "colab_type": "code",
        "colab": {}
      },
      "source": [
        "re.search(r\"\\d\\d\\d\\d\\d\",\"90201 hello\")"
      ],
      "execution_count": 0,
      "outputs": []
    },
    {
      "cell_type": "code",
      "metadata": {
        "id": "eabjbMKBeHHe",
        "colab_type": "code",
        "colab": {}
      },
      "source": [
        "re.search(r\"^\\d\\d\\d\\d\\d$\",\"90201\")"
      ],
      "execution_count": 0,
      "outputs": []
    },
    {
      "cell_type": "code",
      "metadata": {
        "id": "XwnkLxRpeHWO",
        "colab_type": "code",
        "colab": {}
      },
      "source": [
        "re.search(r\"^\\d\\d\\d\\d\\d$\",\"9020102\")"
      ],
      "execution_count": 0,
      "outputs": []
    },
    {
      "cell_type": "code",
      "metadata": {
        "id": "ihKKLLBLeHkn",
        "colab_type": "code",
        "colab": {}
      },
      "source": [
        "re.search(r\"^\\d{5}$\",\"90201\")"
      ],
      "execution_count": 0,
      "outputs": []
    },
    {
      "cell_type": "code",
      "metadata": {
        "id": "jNEHZLvNeHyx",
        "colab_type": "code",
        "colab": {}
      },
      "source": [
        "re.search(r\"\\w{3,5}$\",\"90201\")"
      ],
      "execution_count": 0,
      "outputs": []
    },
    {
      "cell_type": "code",
      "metadata": {
        "id": "pMYivfxfeIAq",
        "colab_type": "code",
        "colab": {}
      },
      "source": [
        "re.search(r\"^\\w{3,5}$\",\"hi\")"
      ],
      "execution_count": 0,
      "outputs": []
    },
    {
      "cell_type": "code",
      "metadata": {
        "id": "pZegkXJGeIOR",
        "colab_type": "code",
        "colab": {}
      },
      "source": [
        "re.search(r\"^\\w{3,5}$\",\"cat\")"
      ],
      "execution_count": 0,
      "outputs": []
    },
    {
      "cell_type": "code",
      "metadata": {
        "id": "j3YPZrQBeIcA",
        "colab_type": "code",
        "colab": {
          "base_uri": "https://localhost:8080/",
          "height": 34
        },
        "outputId": "c6229642-0d44-4c51-c5b0-706729249781"
      },
      "source": [
        "re.search(r\"^\\w{3,5}$\",\"hello\")"
      ],
      "execution_count": 130,
      "outputs": [
        {
          "output_type": "execute_result",
          "data": {
            "text/plain": [
              "<_sre.SRE_Match object; span=(0, 5), match='hello'>"
            ]
          },
          "metadata": {
            "tags": []
          },
          "execution_count": 130
        }
      ]
    },
    {
      "cell_type": "code",
      "metadata": {
        "id": "dLIEjjqVeIo6",
        "colab_type": "code",
        "colab": {}
      },
      "source": [
        "re.search(r\"^\\w{3,5}$\",\"mellow\")"
      ],
      "execution_count": 0,
      "outputs": []
    },
    {
      "cell_type": "code",
      "metadata": {
        "id": "EGG5RHg0eI3F",
        "colab_type": "code",
        "colab": {
          "base_uri": "https://localhost:8080/",
          "height": 34
        },
        "outputId": "3ed67e0b-6b7d-427f-c6de-7182466b200d"
      },
      "source": [
        "re.search(r\"^\\w{3,}$\",\"mellow\")"
      ],
      "execution_count": 133,
      "outputs": [
        {
          "output_type": "execute_result",
          "data": {
            "text/plain": [
              "<_sre.SRE_Match object; span=(0, 6), match='mellow'>"
            ]
          },
          "metadata": {
            "tags": []
          },
          "execution_count": 133
        }
      ]
    },
    {
      "cell_type": "code",
      "metadata": {
        "id": "NCxFXuJCeJDq",
        "colab_type": "code",
        "colab": {}
      },
      "source": [
        "re.search(r\"^\\w{3,}\",\"hi\")"
      ],
      "execution_count": 0,
      "outputs": []
    },
    {
      "cell_type": "code",
      "metadata": {
        "id": "gOvRhuHceJQv",
        "colab_type": "code",
        "colab": {
          "base_uri": "https://localhost:8080/",
          "height": 34
        },
        "outputId": "1d0d860a-3064-4f1c-89f2-dc53b8ef3c07"
      },
      "source": [
        "re.search(r\"^\\w+$\",\"hi\")"
      ],
      "execution_count": 138,
      "outputs": [
        {
          "output_type": "execute_result",
          "data": {
            "text/plain": [
              "<_sre.SRE_Match object; span=(0, 2), match='hi'>"
            ]
          },
          "metadata": {
            "tags": []
          },
          "execution_count": 138
        }
      ]
    },
    {
      "cell_type": "code",
      "metadata": {
        "id": "SyP71MOBeJeU",
        "colab_type": "code",
        "colab": {}
      },
      "source": [
        "re.search(r\"^\\w+$\",\"\")"
      ],
      "execution_count": 0,
      "outputs": []
    },
    {
      "cell_type": "code",
      "metadata": {
        "id": "pVqtcTsheJse",
        "colab_type": "code",
        "colab": {
          "base_uri": "https://localhost:8080/",
          "height": 34
        },
        "outputId": "945fa0d6-2d06-417e-e627-ea5afd64a8e3"
      },
      "source": [
        "re.search(r\"^\\w+$\",\"h\") "
      ],
      "execution_count": 140,
      "outputs": [
        {
          "output_type": "execute_result",
          "data": {
            "text/plain": [
              "<_sre.SRE_Match object; span=(0, 1), match='h'>"
            ]
          },
          "metadata": {
            "tags": []
          },
          "execution_count": 140
        }
      ]
    },
    {
      "cell_type": "code",
      "metadata": {
        "id": "C5MJeYd-eJ4Q",
        "colab_type": "code",
        "colab": {
          "base_uri": "https://localhost:8080/",
          "height": 34
        },
        "outputId": "ed3a41f9-5322-4af1-d341-f8c6fbe6678d"
      },
      "source": [
        "#same for above\n",
        "re.search(r\"^\\w{1,}$\",\"h\") #+ is shorthand for {1,}"
      ],
      "execution_count": 142,
      "outputs": [
        {
          "output_type": "execute_result",
          "data": {
            "text/plain": [
              "<_sre.SRE_Match object; span=(0, 1), match='h'>"
            ]
          },
          "metadata": {
            "tags": []
          },
          "execution_count": 142
        }
      ]
    },
    {
      "cell_type": "code",
      "metadata": {
        "id": "HbOXJQO5eKFm",
        "colab_type": "code",
        "colab": {
          "base_uri": "https://localhost:8080/",
          "height": 34
        },
        "outputId": "3a7251fa-6cdf-44c0-cf9c-efb93a1a4491"
      },
      "source": [
        "re.search(r\"^\\w*$\",\"h\")"
      ],
      "execution_count": 143,
      "outputs": [
        {
          "output_type": "execute_result",
          "data": {
            "text/plain": [
              "<_sre.SRE_Match object; span=(0, 1), match='h'>"
            ]
          },
          "metadata": {
            "tags": []
          },
          "execution_count": 143
        }
      ]
    },
    {
      "cell_type": "code",
      "metadata": {
        "id": "DSE8yfGueKSK",
        "colab_type": "code",
        "colab": {
          "base_uri": "https://localhost:8080/",
          "height": 34
        },
        "outputId": "df0d55d0-6bba-4780-e684-03c90889cf96"
      },
      "source": [
        "re.search(r\"^\\w*$\",\"\")"
      ],
      "execution_count": 144,
      "outputs": [
        {
          "output_type": "execute_result",
          "data": {
            "text/plain": [
              "<_sre.SRE_Match object; span=(0, 0), match=''>"
            ]
          },
          "metadata": {
            "tags": []
          },
          "execution_count": 144
        }
      ]
    },
    {
      "cell_type": "code",
      "metadata": {
        "id": "uboZ5tyTeKee",
        "colab_type": "code",
        "colab": {
          "base_uri": "https://localhost:8080/",
          "height": 34
        },
        "outputId": "3debf3d8-d0b2-42eb-8360-439d4ede4b17"
      },
      "source": [
        "re.search(r\"^\\w{0,}$\",\"h\") # * is equivalent to {0,}"
      ],
      "execution_count": 145,
      "outputs": [
        {
          "output_type": "execute_result",
          "data": {
            "text/plain": [
              "<_sre.SRE_Match object; span=(0, 1), match='h'>"
            ]
          },
          "metadata": {
            "tags": []
          },
          "execution_count": 145
        }
      ]
    },
    {
      "cell_type": "code",
      "metadata": {
        "id": "QVsrfZC_eKql",
        "colab_type": "code",
        "colab": {
          "base_uri": "https://localhost:8080/",
          "height": 34
        },
        "outputId": "bca394f9-b477-4573-9348-53c68a7d6d96"
      },
      "source": [
        "re.search(r\"^\\w?$\",\"\")"
      ],
      "execution_count": 146,
      "outputs": [
        {
          "output_type": "execute_result",
          "data": {
            "text/plain": [
              "<_sre.SRE_Match object; span=(0, 0), match=''>"
            ]
          },
          "metadata": {
            "tags": []
          },
          "execution_count": 146
        }
      ]
    },
    {
      "cell_type": "code",
      "metadata": {
        "id": "Hgq-v2njeK2s",
        "colab_type": "code",
        "colab": {
          "base_uri": "https://localhost:8080/",
          "height": 34
        },
        "outputId": "aa9974dd-cb86-4864-dd61-e234c764e4f5"
      },
      "source": [
        "re.search(r\"^\\w{0,1}$\",\"h\") # ? is equivalent to {0,1}"
      ],
      "execution_count": 147,
      "outputs": [
        {
          "output_type": "execute_result",
          "data": {
            "text/plain": [
              "<_sre.SRE_Match object; span=(0, 1), match='h'>"
            ]
          },
          "metadata": {
            "tags": []
          },
          "execution_count": 147
        }
      ]
    },
    {
      "cell_type": "code",
      "metadata": {
        "id": "55PQgjoTeLeg",
        "colab_type": "code",
        "colab": {}
      },
      "source": [
        "re.search(r\"^\\w{0,1}$\",\"hi\")"
      ],
      "execution_count": 0,
      "outputs": []
    },
    {
      "cell_type": "code",
      "metadata": {
        "id": "8PaBcq4HeLrO",
        "colab_type": "code",
        "colab": {
          "base_uri": "https://localhost:8080/",
          "height": 34
        },
        "outputId": "d850ee4e-61ea-4b6a-d6af-a760cccf2e44"
      },
      "source": [
        "sentence = \"I'm flying out of SAN right now.\"\n",
        "re.search(r\"[A-Z]{3}\", sentence)"
      ],
      "execution_count": 152,
      "outputs": [
        {
          "output_type": "execute_result",
          "data": {
            "text/plain": [
              "<_sre.SRE_Match object; span=(18, 21), match='SAN'>"
            ]
          },
          "metadata": {
            "tags": []
          },
          "execution_count": 152
        }
      ]
    },
    {
      "cell_type": "code",
      "metadata": {
        "id": "Xn9-xqvIeL2n",
        "colab_type": "code",
        "colab": {
          "base_uri": "https://localhost:8080/",
          "height": 34
        },
        "outputId": "34227b9e-ffc1-4a6c-c946-5ea17a0ef376"
      },
      "source": [
        "re.search(r\"[A-Z]{3,3}\",\"SANO\")"
      ],
      "execution_count": 153,
      "outputs": [
        {
          "output_type": "execute_result",
          "data": {
            "text/plain": [
              "<_sre.SRE_Match object; span=(0, 3), match='SAN'>"
            ]
          },
          "metadata": {
            "tags": []
          },
          "execution_count": 153
        }
      ]
    },
    {
      "cell_type": "code",
      "metadata": {
        "id": "HJmnlmbSeMCm",
        "colab_type": "code",
        "colab": {
          "base_uri": "https://localhost:8080/",
          "height": 34
        },
        "outputId": "87fe94a6-b41b-48b0-cfd3-26115a767259"
      },
      "source": [
        "re.search(r\"[A-Z]{3}\",\"SANO\")"
      ],
      "execution_count": 154,
      "outputs": [
        {
          "output_type": "execute_result",
          "data": {
            "text/plain": [
              "<_sre.SRE_Match object; span=(0, 3), match='SAN'>"
            ]
          },
          "metadata": {
            "tags": []
          },
          "execution_count": 154
        }
      ]
    },
    {
      "cell_type": "code",
      "metadata": {
        "id": "QLM1mroMeMO_",
        "colab_type": "code",
        "colab": {
          "base_uri": "https://localhost:8080/",
          "height": 34
        },
        "outputId": "1973c72e-d2cd-4f46-eb80-aa2e05b2a181"
      },
      "source": [
        "re.search(r\"[A-Z]{3}\\b\",\"SANO\")"
      ],
      "execution_count": 155,
      "outputs": [
        {
          "output_type": "execute_result",
          "data": {
            "text/plain": [
              "<_sre.SRE_Match object; span=(1, 4), match='ANO'>"
            ]
          },
          "metadata": {
            "tags": []
          },
          "execution_count": 155
        }
      ]
    },
    {
      "cell_type": "code",
      "metadata": {
        "id": "7lo15h9DeMbR",
        "colab_type": "code",
        "colab": {}
      },
      "source": [
        "re.search(r\"\\b[A-Z]{3}\\b\",\"SANO\")"
      ],
      "execution_count": 0,
      "outputs": []
    },
    {
      "cell_type": "code",
      "metadata": {
        "id": "JQj2UXSYeMnH",
        "colab_type": "code",
        "colab": {
          "base_uri": "https://localhost:8080/",
          "height": 34
        },
        "outputId": "a90626c0-3747-4271-8d54-3807e1c6d02e"
      },
      "source": [
        "re.search(r\"\\b[A-Z]{3}\\b\",sentence)"
      ],
      "execution_count": 157,
      "outputs": [
        {
          "output_type": "execute_result",
          "data": {
            "text/plain": [
              "<_sre.SRE_Match object; span=(18, 21), match='SAN'>"
            ]
          },
          "metadata": {
            "tags": []
          },
          "execution_count": 157
        }
      ]
    },
    {
      "cell_type": "code",
      "metadata": {
        "id": "nk8y4w65eMy2",
        "colab_type": "code",
        "colab": {
          "base_uri": "https://localhost:8080/",
          "height": 34
        },
        "outputId": "49c9997a-b18e-447c-ac96-48eef3b01fc3"
      },
      "source": [
        "re.search(r\"^\\d{5}$\",\"90201\")"
      ],
      "execution_count": 158,
      "outputs": [
        {
          "output_type": "execute_result",
          "data": {
            "text/plain": [
              "<_sre.SRE_Match object; span=(0, 5), match='90201'>"
            ]
          },
          "metadata": {
            "tags": []
          },
          "execution_count": 158
        }
      ]
    },
    {
      "cell_type": "code",
      "metadata": {
        "id": "p6cstcA5eNAA",
        "colab_type": "code",
        "colab": {}
      },
      "source": [
        "re.search(r\"^\\d{5}$\",\"90201-4873\")"
      ],
      "execution_count": 0,
      "outputs": []
    },
    {
      "cell_type": "code",
      "metadata": {
        "id": "yse3TYNBeNjy",
        "colab_type": "code",
        "colab": {
          "base_uri": "https://localhost:8080/",
          "height": 34
        },
        "outputId": "d70e6b3f-ba1a-447e-8d37-789715e3bf85"
      },
      "source": [
        "re.search(r\"^\\d{5}-\\d{4}$\",\"90201-4873\")"
      ],
      "execution_count": 160,
      "outputs": [
        {
          "output_type": "execute_result",
          "data": {
            "text/plain": [
              "<_sre.SRE_Match object; span=(0, 10), match='90201-4873'>"
            ]
          },
          "metadata": {
            "tags": []
          },
          "execution_count": 160
        }
      ]
    },
    {
      "cell_type": "code",
      "metadata": {
        "id": "hdh0SDTMeOgO",
        "colab_type": "code",
        "colab": {
          "base_uri": "https://localhost:8080/",
          "height": 34
        },
        "outputId": "a3558249-909f-402b-c14b-a37db6be0e0b"
      },
      "source": [
        "re.search(r\"^\\d{5}-?\\d{4}?$\",\"90201-4873\")"
      ],
      "execution_count": 163,
      "outputs": [
        {
          "output_type": "execute_result",
          "data": {
            "text/plain": [
              "<_sre.SRE_Match object; span=(0, 10), match='90201-4873'>"
            ]
          },
          "metadata": {
            "tags": []
          },
          "execution_count": 163
        }
      ]
    },
    {
      "cell_type": "code",
      "metadata": {
        "id": "SLCIIaafeOu-",
        "colab_type": "code",
        "colab": {
          "base_uri": "https://localhost:8080/",
          "height": 34
        },
        "outputId": "d8877743-c5ea-468c-c1cd-695bdca5a227"
      },
      "source": [
        "re.search(r\"^\\d{5}(-\\d{4})?$\",\"90201-4873\")"
      ],
      "execution_count": 164,
      "outputs": [
        {
          "output_type": "execute_result",
          "data": {
            "text/plain": [
              "<_sre.SRE_Match object; span=(0, 10), match='90201-4873'>"
            ]
          },
          "metadata": {
            "tags": []
          },
          "execution_count": 164
        }
      ]
    },
    {
      "cell_type": "code",
      "metadata": {
        "id": "hkPJpZH7eO7m",
        "colab_type": "code",
        "colab": {}
      },
      "source": [
        "re.search(r\"^\\d{5}(-\\d{4})?$\",\"90201-\")"
      ],
      "execution_count": 0,
      "outputs": []
    },
    {
      "cell_type": "code",
      "metadata": {
        "id": "KbaUwEIzePHk",
        "colab_type": "code",
        "colab": {}
      },
      "source": [
        "re.search(r\"^\\d{5}(-\\d{4})?$\",\"90201-4873-1234\")"
      ],
      "execution_count": 0,
      "outputs": []
    },
    {
      "cell_type": "code",
      "metadata": {
        "id": "YkJ-ieJXePTQ",
        "colab_type": "code",
        "colab": {}
      },
      "source": [
        "m = re.search(r\"^\\d{5}(-\\d{4})*$\",\"90201-4873-1234\")"
      ],
      "execution_count": 0,
      "outputs": []
    },
    {
      "cell_type": "code",
      "metadata": {
        "id": "qxeRIPhlvBZh",
        "colab_type": "code",
        "colab": {
          "base_uri": "https://localhost:8080/",
          "height": 34
        },
        "outputId": "53502609-8ab3-47a0-ad33-3bcf0493333b"
      },
      "source": [
        "m.group(), m.group(1), m.group(0)"
      ],
      "execution_count": 175,
      "outputs": [
        {
          "output_type": "execute_result",
          "data": {
            "text/plain": [
              "('90201-4873-1234', '-1234', '90201-4873-1234')"
            ]
          },
          "metadata": {
            "tags": []
          },
          "execution_count": 175
        }
      ]
    },
    {
      "cell_type": "code",
      "metadata": {
        "id": "enud7lueePe6",
        "colab_type": "code",
        "colab": {
          "base_uri": "https://localhost:8080/",
          "height": 34
        },
        "outputId": "8c79665f-2671-4291-cbac-4ef5c93a0a4e"
      },
      "source": [
        "m = re.search(r\"^(\\d{5})(-\\d{4})*$\",\"90201-4873-1234\")\n",
        "m.group(1), m.group(2)"
      ],
      "execution_count": 179,
      "outputs": [
        {
          "output_type": "execute_result",
          "data": {
            "text/plain": [
              "('90201', '-1234')"
            ]
          },
          "metadata": {
            "tags": []
          },
          "execution_count": 179
        }
      ]
    },
    {
      "cell_type": "code",
      "metadata": {
        "id": "OHoDwE1HePrC",
        "colab_type": "code",
        "colab": {
          "base_uri": "https://localhost:8080/",
          "height": 34
        },
        "outputId": "eb6c09e3-3062-4174-e558-0ee90dc544ea"
      },
      "source": [
        "m = re.search(r\"^(\\d{5})(-\\d{4})?$\",\"90201\")\n",
        "m.group(1), m.group(2)\n"
      ],
      "execution_count": 183,
      "outputs": [
        {
          "output_type": "execute_result",
          "data": {
            "text/plain": [
              "('90201', None)"
            ]
          },
          "metadata": {
            "tags": []
          },
          "execution_count": 183
        }
      ]
    },
    {
      "cell_type": "code",
      "metadata": {
        "id": "2eu6DsqIeP1f",
        "colab_type": "code",
        "colab": {
          "base_uri": "https://localhost:8080/",
          "height": 34
        },
        "outputId": "d8844541-f9d7-46cd-9020-a7dca448a866"
      },
      "source": [
        "m = re.search(r\"^(\\d{5})(-\\d{4})?$\",\"90201-4873\")\n",
        "m.group(2), m.group(1)"
      ],
      "execution_count": 186,
      "outputs": [
        {
          "output_type": "execute_result",
          "data": {
            "text/plain": [
              "('-4873', '90201')"
            ]
          },
          "metadata": {
            "tags": []
          },
          "execution_count": 186
        }
      ]
    },
    {
      "cell_type": "code",
      "metadata": {
        "id": "TIEjqZ7ieQBY",
        "colab_type": "code",
        "colab": {
          "base_uri": "https://localhost:8080/",
          "height": 34
        },
        "outputId": "c78ff554-dfcc-4d7e-b9be-db520361776b"
      },
      "source": [
        "m.groups(), len(m.groups())"
      ],
      "execution_count": 187,
      "outputs": [
        {
          "output_type": "execute_result",
          "data": {
            "text/plain": [
              "(('90201', '-4873'), 2)"
            ]
          },
          "metadata": {
            "tags": []
          },
          "execution_count": 187
        }
      ]
    },
    {
      "cell_type": "code",
      "metadata": {
        "id": "xLnBEPzveQL_",
        "colab_type": "code",
        "colab": {
          "base_uri": "https://localhost:8080/",
          "height": 34
        },
        "outputId": "8085148f-c112-4607-a8f9-30dc540755b1"
      },
      "source": [
        "sentence = \"I'll be flying from SAN to PDX with a stop in SFO\"\n",
        "re.search(r\"\\b[A-Z]{3}\\b\",sentence)"
      ],
      "execution_count": 198,
      "outputs": [
        {
          "output_type": "execute_result",
          "data": {
            "text/plain": [
              "<_sre.SRE_Match object; span=(20, 23), match='SAN'>"
            ]
          },
          "metadata": {
            "tags": []
          },
          "execution_count": 198
        }
      ]
    },
    {
      "cell_type": "code",
      "metadata": {
        "id": "1SEJ4JyaeQi0",
        "colab_type": "code",
        "colab": {
          "base_uri": "https://localhost:8080/",
          "height": 34
        },
        "outputId": "8f5ed033-904a-411a-82f3-3a91d61833c9"
      },
      "source": [
        "re.search(r\"\\b[A-Z]{3}\\b\", sentence)"
      ],
      "execution_count": 199,
      "outputs": [
        {
          "output_type": "execute_result",
          "data": {
            "text/plain": [
              "<_sre.SRE_Match object; span=(20, 23), match='SAN'>"
            ]
          },
          "metadata": {
            "tags": []
          },
          "execution_count": 199
        }
      ]
    },
    {
      "cell_type": "code",
      "metadata": {
        "id": "DOiB7-sseRCJ",
        "colab_type": "code",
        "colab": {
          "base_uri": "https://localhost:8080/",
          "height": 68
        },
        "outputId": "55fda362-27c0-4661-e375-034c67ce1daf"
      },
      "source": [
        "airport_matches = re.finditer(r\"\\b[A-Z]{3}\\b\",sentence)\n",
        "for m in airport_matches:\n",
        "    print(m.group())\n",
        "     "
      ],
      "execution_count": 200,
      "outputs": [
        {
          "output_type": "stream",
          "text": [
            "SAN\n",
            "PDX\n",
            "SFO\n"
          ],
          "name": "stdout"
        }
      ]
    },
    {
      "cell_type": "code",
      "metadata": {
        "id": "-97lSEvZeRMI",
        "colab_type": "code",
        "colab": {
          "base_uri": "https://localhost:8080/",
          "height": 34
        },
        "outputId": "92219fdb-3427-4477-b31b-280485c0db45"
      },
      "source": [
        "re.findall(r\"\\b[A-Z]{3}\\b\",sentence)"
      ],
      "execution_count": 201,
      "outputs": [
        {
          "output_type": "execute_result",
          "data": {
            "text/plain": [
              "['SAN', 'PDX', 'SFO']"
            ]
          },
          "metadata": {
            "tags": []
          },
          "execution_count": 201
        }
      ]
    },
    {
      "cell_type": "code",
      "metadata": {
        "id": "2BeHMDVHzIbR",
        "colab_type": "code",
        "colab": {}
      },
      "source": [
        "for m in airport_matches:\n",
        "  print(m.group(0))"
      ],
      "execution_count": 0,
      "outputs": []
    },
    {
      "cell_type": "code",
      "metadata": {
        "id": "0ki4I71WzNpz",
        "colab_type": "code",
        "colab": {
          "base_uri": "https://localhost:8080/",
          "height": 34
        },
        "outputId": "7b939c50-4862-4908-e484-b714ee6f0eb3"
      },
      "source": [
        "list(airport_matches)"
      ],
      "execution_count": 203,
      "outputs": [
        {
          "output_type": "execute_result",
          "data": {
            "text/plain": [
              "[]"
            ]
          },
          "metadata": {
            "tags": []
          },
          "execution_count": 203
        }
      ]
    },
    {
      "cell_type": "code",
      "metadata": {
        "id": "bOgssk7AzRvy",
        "colab_type": "code",
        "colab": {
          "base_uri": "https://localhost:8080/",
          "height": 68
        },
        "outputId": "f42149f4-d706-46e8-ee7d-27c72c7c509b"
      },
      "source": [
        "airport_matches = re.finditer(r\"\\b[A-Z]{3}\\b\", sentence)\n",
        "for m in airport_matches:\n",
        "  print(m.group(0))"
      ],
      "execution_count": 204,
      "outputs": [
        {
          "output_type": "stream",
          "text": [
            "SAN\n",
            "PDX\n",
            "SFO\n"
          ],
          "name": "stdout"
        }
      ]
    },
    {
      "cell_type": "code",
      "metadata": {
        "id": "FPhL2L381f3R",
        "colab_type": "code",
        "colab": {
          "base_uri": "https://localhost:8080/",
          "height": 34
        },
        "outputId": "6d3d480f-2f77-44e9-bb2e-a90f0e41b49a"
      },
      "source": [
        "re.findall(r\"\\d{5}\",\"90201 12345\")"
      ],
      "execution_count": 205,
      "outputs": [
        {
          "output_type": "execute_result",
          "data": {
            "text/plain": [
              "['90201', '12345']"
            ]
          },
          "metadata": {
            "tags": []
          },
          "execution_count": 205
        }
      ]
    },
    {
      "cell_type": "code",
      "metadata": {
        "id": "bzCBppkpeRYE",
        "colab_type": "code",
        "colab": {
          "base_uri": "https://localhost:8080/",
          "height": 34
        },
        "outputId": "f6203395-c49e-43c9-9364-906a10fbcb12"
      },
      "source": [
        "re.findall(r\"\\d{5}\",\"90201-0438 12345\")"
      ],
      "execution_count": 207,
      "outputs": [
        {
          "output_type": "execute_result",
          "data": {
            "text/plain": [
              "['90201', '12345']"
            ]
          },
          "metadata": {
            "tags": []
          },
          "execution_count": 207
        }
      ]
    },
    {
      "cell_type": "code",
      "metadata": {
        "id": "o1i1rZGreR2o",
        "colab_type": "code",
        "colab": {
          "base_uri": "https://localhost:8080/",
          "height": 34
        },
        "outputId": "3a5ebd03-d58b-4239-f0a1-2b6b839d605b"
      },
      "source": [
        "re.findall(r\"\\d{5}\",\"902010438 12345\")"
      ],
      "execution_count": 208,
      "outputs": [
        {
          "output_type": "execute_result",
          "data": {
            "text/plain": [
              "['90201', '12345']"
            ]
          },
          "metadata": {
            "tags": []
          },
          "execution_count": 208
        }
      ]
    },
    {
      "cell_type": "code",
      "metadata": {
        "id": "BchRKKCpeSBM",
        "colab_type": "code",
        "colab": {}
      },
      "source": [
        "re.findall(r\"\\b\\d{5}\",\"90201-0438 12345\")"
      ],
      "execution_count": 0,
      "outputs": []
    },
    {
      "cell_type": "code",
      "metadata": {
        "id": "LUzTr3UOeSi2",
        "colab_type": "code",
        "colab": {
          "base_uri": "https://localhost:8080/",
          "height": 34
        },
        "outputId": "530964a4-6e72-4d39-d260-26ebfc1180b6"
      },
      "source": [
        "re.findall(r\"\\b\\d{5}\",\"90201-0438-2938 12345\")"
      ],
      "execution_count": 209,
      "outputs": [
        {
          "output_type": "execute_result",
          "data": {
            "text/plain": [
              "['90201', '12345']"
            ]
          },
          "metadata": {
            "tags": []
          },
          "execution_count": 209
        }
      ]
    },
    {
      "cell_type": "code",
      "metadata": {
        "id": "89euRX6OeS3P",
        "colab_type": "code",
        "colab": {
          "base_uri": "https://localhost:8080/",
          "height": 34
        },
        "outputId": "f8de8eb5-bc3a-4fbf-ab02-8e45442f98bf"
      },
      "source": [
        "re.findall(r\"\\b\\d{5}\",\"90201-0438 12345\")"
      ],
      "execution_count": 210,
      "outputs": [
        {
          "output_type": "execute_result",
          "data": {
            "text/plain": [
              "['90201', '12345']"
            ]
          },
          "metadata": {
            "tags": []
          },
          "execution_count": 210
        }
      ]
    },
    {
      "cell_type": "code",
      "metadata": {
        "id": "wHNWj_Ks5868",
        "colab_type": "code",
        "colab": {
          "base_uri": "https://localhost:8080/",
          "height": 34
        },
        "outputId": "cc5b53f8-278f-47e5-f42c-c707e954cd6d"
      },
      "source": [
        "re.findall(r\"\\b\\d{5}(-\\d{4})?\\b\",\"90201-0438 12345\")"
      ],
      "execution_count": 211,
      "outputs": [
        {
          "output_type": "execute_result",
          "data": {
            "text/plain": [
              "['-0438', '']"
            ]
          },
          "metadata": {
            "tags": []
          },
          "execution_count": 211
        }
      ]
    },
    {
      "cell_type": "code",
      "metadata": {
        "id": "sVsHQzn159Be",
        "colab_type": "code",
        "colab": {
          "base_uri": "https://localhost:8080/",
          "height": 34
        },
        "outputId": "fa47a5df-4023-4b71-aee1-cd98a9d1b110"
      },
      "source": [
        "re.findall(r\"\\b(\\d{5})(-\\d{4})?\\b\",\"90201-0438 12345\")"
      ],
      "execution_count": 213,
      "outputs": [
        {
          "output_type": "execute_result",
          "data": {
            "text/plain": [
              "[('90201', '-0438'), ('12345', '')]"
            ]
          },
          "metadata": {
            "tags": []
          },
          "execution_count": 213
        }
      ]
    },
    {
      "cell_type": "code",
      "metadata": {
        "id": "0xXz1uqU59MM",
        "colab_type": "code",
        "colab": {
          "base_uri": "https://localhost:8080/",
          "height": 34
        },
        "outputId": "4ab82bbd-f328-4648-b83c-3bbd1cb2d1a6"
      },
      "source": [
        "re.findall(r\"\\b((\\d{5})(-\\d{4})?)\\b\",\"90201-0438 12345\")"
      ],
      "execution_count": 215,
      "outputs": [
        {
          "output_type": "execute_result",
          "data": {
            "text/plain": [
              "[('90201-0438', '90201', '-0438'), ('12345', '12345', '')]"
            ]
          },
          "metadata": {
            "tags": []
          },
          "execution_count": 215
        }
      ]
    },
    {
      "cell_type": "code",
      "metadata": {
        "id": "MOfxnCt_59VP",
        "colab_type": "code",
        "colab": {
          "base_uri": "https://localhost:8080/",
          "height": 34
        },
        "outputId": "b0471142-8662-4689-edd7-7b842a36d25a"
      },
      "source": [
        "#non capturing groups\n",
        "re.findall(r\"\\b\\d{5}(?:-\\d{4})?\\b\",\"90201-0438 12345\")"
      ],
      "execution_count": 216,
      "outputs": [
        {
          "output_type": "execute_result",
          "data": {
            "text/plain": [
              "['90201-0438', '12345']"
            ]
          },
          "metadata": {
            "tags": []
          },
          "execution_count": 216
        }
      ]
    },
    {
      "cell_type": "code",
      "metadata": {
        "id": "JyPuvGMY59ZZ",
        "colab_type": "code",
        "colab": {
          "base_uri": "https://localhost:8080/",
          "height": 34
        },
        "outputId": "10895fba-5e20-4376-c57c-dbb31404dac5"
      },
      "source": [
        "#non capturing groups\n",
        "re.findall(r\"\\b\\d{5}(?: -\\d{4} )? \\b\",\"90201-0438 12345\", re.VERBOSE)"
      ],
      "execution_count": 217,
      "outputs": [
        {
          "output_type": "execute_result",
          "data": {
            "text/plain": [
              "['90201-0438', '12345']"
            ]
          },
          "metadata": {
            "tags": []
          },
          "execution_count": 217
        }
      ]
    },
    {
      "cell_type": "code",
      "metadata": {
        "id": "W9Zi0x3359k8",
        "colab_type": "code",
        "colab": {
          "base_uri": "https://localhost:8080/",
          "height": 34
        },
        "outputId": "2826fd41-3683-4461-a874-0fa4d45201ac"
      },
      "source": [
        "\"archeive.tar.gz\".split(\".\")"
      ],
      "execution_count": 218,
      "outputs": [
        {
          "output_type": "execute_result",
          "data": {
            "text/plain": [
              "['archeive', 'tar', 'gz']"
            ]
          },
          "metadata": {
            "tags": []
          },
          "execution_count": 218
        }
      ]
    },
    {
      "cell_type": "code",
      "metadata": {
        "id": "0fGFWL_A59ml",
        "colab_type": "code",
        "colab": {
          "base_uri": "https://localhost:8080/",
          "height": 34
        },
        "outputId": "2f7fb40e-cddb-44a2-cdab-575dcdd46e2c"
      },
      "source": [
        "\"archeive.tar.gz\".split(\".\")[-1]"
      ],
      "execution_count": 219,
      "outputs": [
        {
          "output_type": "execute_result",
          "data": {
            "text/plain": [
              "'gz'"
            ]
          },
          "metadata": {
            "tags": []
          },
          "execution_count": 219
        }
      ]
    },
    {
      "cell_type": "code",
      "metadata": {
        "id": "BdnF5ZQx59pZ",
        "colab_type": "code",
        "colab": {
          "base_uri": "https://localhost:8080/",
          "height": 34
        },
        "outputId": "7cf8bb4a-0e81-4a12-a350-898b5bc21e3d"
      },
      "source": [
        "re.split(\".\",\"archeive.tar.gz\")"
      ],
      "execution_count": 220,
      "outputs": [
        {
          "output_type": "execute_result",
          "data": {
            "text/plain": [
              "['', '', '', '', '', '', '', '', '', '', '', '', '', '', '', '']"
            ]
          },
          "metadata": {
            "tags": []
          },
          "execution_count": 220
        }
      ]
    },
    {
      "cell_type": "code",
      "metadata": {
        "id": "jtCcYl8S59cx",
        "colab_type": "code",
        "colab": {
          "base_uri": "https://localhost:8080/",
          "height": 34
        },
        "outputId": "4fe5a6d6-2d55-495b-d39a-72e867bbe808"
      },
      "source": [
        "re.split(\"\\.\",\"archeive.tar.gz\")[-1]"
      ],
      "execution_count": 222,
      "outputs": [
        {
          "output_type": "execute_result",
          "data": {
            "text/plain": [
              "'gz'"
            ]
          },
          "metadata": {
            "tags": []
          },
          "execution_count": 222
        }
      ]
    },
    {
      "cell_type": "code",
      "metadata": {
        "id": "eVUV-d-I_MvR",
        "colab_type": "code",
        "colab": {}
      },
      "source": [
        ""
      ],
      "execution_count": 0,
      "outputs": []
    },
    {
      "cell_type": "code",
      "metadata": {
        "id": "l29Cn-Um59P8",
        "colab_type": "code",
        "colab": {
          "base_uri": "https://localhost:8080/",
          "height": 34
        },
        "outputId": "d43ac7db-697b-4b4d-a007-9df48cc64fc3"
      },
      "source": [
        "#maching time using re\n",
        "re.search('\\d{2}:\\d{2}',\"00:00\")"
      ],
      "execution_count": 224,
      "outputs": [
        {
          "output_type": "execute_result",
          "data": {
            "text/plain": [
              "<_sre.SRE_Match object; span=(0, 5), match='00:00'>"
            ]
          },
          "metadata": {
            "tags": []
          },
          "execution_count": 224
        }
      ]
    },
    {
      "cell_type": "code",
      "metadata": {
        "id": "AjrarOk_59FO",
        "colab_type": "code",
        "colab": {
          "base_uri": "https://localhost:8080/",
          "height": 34
        },
        "outputId": "fe014f94-a45f-42af-fe63-eb1982e1fa8e"
      },
      "source": [
        "re.search('\\d{2}:\\d{2}',\"34:85\")"
      ],
      "execution_count": 225,
      "outputs": [
        {
          "output_type": "execute_result",
          "data": {
            "text/plain": [
              "<_sre.SRE_Match object; span=(0, 5), match='34:85'>"
            ]
          },
          "metadata": {
            "tags": []
          },
          "execution_count": 225
        }
      ]
    },
    {
      "cell_type": "code",
      "metadata": {
        "id": "opYAgpy6_cOz",
        "colab_type": "code",
        "colab": {
          "base_uri": "https://localhost:8080/",
          "height": 34
        },
        "outputId": "288f56cb-3e08-4240-c7e7-b0dbc96a2a4f"
      },
      "source": [
        "re.search('\\d{2}:\\d{2}',\"24:13\")"
      ],
      "execution_count": 226,
      "outputs": [
        {
          "output_type": "execute_result",
          "data": {
            "text/plain": [
              "<_sre.SRE_Match object; span=(0, 5), match='24:13'>"
            ]
          },
          "metadata": {
            "tags": []
          },
          "execution_count": 226
        }
      ]
    },
    {
      "cell_type": "code",
      "metadata": {
        "id": "0VaSQ1ec_cj9",
        "colab_type": "code",
        "colab": {
          "base_uri": "https://localhost:8080/",
          "height": 34
        },
        "outputId": "0dfcc3ed-3102-4017-e407-d8c741942116"
      },
      "source": [
        "re.search('\\d{2}:\\d{2}',\"23:60\")"
      ],
      "execution_count": 227,
      "outputs": [
        {
          "output_type": "execute_result",
          "data": {
            "text/plain": [
              "<_sre.SRE_Match object; span=(0, 5), match='23:60'>"
            ]
          },
          "metadata": {
            "tags": []
          },
          "execution_count": 227
        }
      ]
    },
    {
      "cell_type": "code",
      "metadata": {
        "id": "INi15OeZ_cml",
        "colab_type": "code",
        "colab": {}
      },
      "source": [
        "re.search('\\d{2}:[0-5]\\d',\"23:60\")"
      ],
      "execution_count": 0,
      "outputs": []
    },
    {
      "cell_type": "code",
      "metadata": {
        "id": "MEjXeVOn_cri",
        "colab_type": "code",
        "colab": {
          "base_uri": "https://localhost:8080/",
          "height": 34
        },
        "outputId": "0675cb2f-3650-4b16-fd6a-264faab19362"
      },
      "source": [
        "re.search('\\d{2}:[0-5]\\d',\"23:50\")"
      ],
      "execution_count": 229,
      "outputs": [
        {
          "output_type": "execute_result",
          "data": {
            "text/plain": [
              "<_sre.SRE_Match object; span=(0, 5), match='23:50'>"
            ]
          },
          "metadata": {
            "tags": []
          },
          "execution_count": 229
        }
      ]
    },
    {
      "cell_type": "code",
      "metadata": {
        "id": "q0chqo99_czL",
        "colab_type": "code",
        "colab": {
          "base_uri": "https://localhost:8080/",
          "height": 34
        },
        "outputId": "98115855-37ea-4a2c-c023-419eca3d4288"
      },
      "source": [
        "re.search('\\d{2}:[0-5]\\d',\"24:59\")"
      ],
      "execution_count": 231,
      "outputs": [
        {
          "output_type": "execute_result",
          "data": {
            "text/plain": [
              "<_sre.SRE_Match object; span=(0, 5), match='24:59'>"
            ]
          },
          "metadata": {
            "tags": []
          },
          "execution_count": 231
        }
      ]
    },
    {
      "cell_type": "code",
      "metadata": {
        "id": "WjDspGMS_c39",
        "colab_type": "code",
        "colab": {}
      },
      "source": [
        "re.search('[0-2]\\d:[0-5]\\d',\"30:59\")"
      ],
      "execution_count": 0,
      "outputs": []
    },
    {
      "cell_type": "code",
      "metadata": {
        "id": "PNqRKYeJ_c7W",
        "colab_type": "code",
        "colab": {
          "base_uri": "https://localhost:8080/",
          "height": 34
        },
        "outputId": "c6f90b0e-79d1-4277-f3c1-be9d5baf0d01"
      },
      "source": [
        "re.search('[0-2]\\d:[0-5]\\d',\"00:59\")"
      ],
      "execution_count": 235,
      "outputs": [
        {
          "output_type": "execute_result",
          "data": {
            "text/plain": [
              "<_sre.SRE_Match object; span=(0, 5), match='00:59'>"
            ]
          },
          "metadata": {
            "tags": []
          },
          "execution_count": 235
        }
      ]
    },
    {
      "cell_type": "code",
      "metadata": {
        "id": "x_hTsEY-_dC7",
        "colab_type": "code",
        "colab": {
          "base_uri": "https://localhost:8080/",
          "height": 34
        },
        "outputId": "7c46077e-4c4d-454f-a4ad-3aded488e429"
      },
      "source": [
        "re.search('[0-2]\\d:[0-5]\\d',\"24:59\")"
      ],
      "execution_count": 236,
      "outputs": [
        {
          "output_type": "execute_result",
          "data": {
            "text/plain": [
              "<_sre.SRE_Match object; span=(0, 5), match='24:59'>"
            ]
          },
          "metadata": {
            "tags": []
          },
          "execution_count": 236
        }
      ]
    },
    {
      "cell_type": "code",
      "metadata": {
        "id": "yuM9h68R_dGZ",
        "colab_type": "code",
        "colab": {}
      },
      "source": [
        "re.search('([01]\\d|2[0-3]):[0-5]\\d',\"30:59\")"
      ],
      "execution_count": 0,
      "outputs": []
    },
    {
      "cell_type": "code",
      "metadata": {
        "id": "YzlULKFM_dLw",
        "colab_type": "code",
        "colab": {}
      },
      "source": [
        "re.search('([01]\\d|2[0-3]):[0-5]\\d',\"24:59\")"
      ],
      "execution_count": 0,
      "outputs": []
    },
    {
      "cell_type": "code",
      "metadata": {
        "id": "1JpHvvfg_dOl",
        "colab_type": "code",
        "colab": {
          "base_uri": "https://localhost:8080/",
          "height": 34
        },
        "outputId": "11d14cbe-149c-40e4-fefa-908b998a0ef7"
      },
      "source": [
        "re.search('([01]\\d|2[0-3]):[0-5]\\d',\"23:59\")"
      ],
      "execution_count": 239,
      "outputs": [
        {
          "output_type": "execute_result",
          "data": {
            "text/plain": [
              "<_sre.SRE_Match object; span=(0, 5), match='23:59'>"
            ]
          },
          "metadata": {
            "tags": []
          },
          "execution_count": 239
        }
      ]
    },
    {
      "cell_type": "code",
      "metadata": {
        "id": "JxFL7nNC_dVK",
        "colab_type": "code",
        "colab": {
          "base_uri": "https://localhost:8080/",
          "height": 34
        },
        "outputId": "b6b67e26-2468-4512-9f2e-d645502af960"
      },
      "source": [
        "re.search('([01]\\d|2[0-3]):[0-5]\\d',\"10:59\")"
      ],
      "execution_count": 241,
      "outputs": [
        {
          "output_type": "execute_result",
          "data": {
            "text/plain": [
              "<_sre.SRE_Match object; span=(0, 5), match='10:59'>"
            ]
          },
          "metadata": {
            "tags": []
          },
          "execution_count": 241
        }
      ]
    },
    {
      "cell_type": "code",
      "metadata": {
        "id": "I2m_hzMl_dWW",
        "colab_type": "code",
        "colab": {
          "base_uri": "https://localhost:8080/",
          "height": 34
        },
        "outputId": "242a4843-9180-4da1-96e2-524942e8aa65"
      },
      "source": [
        "re.search('([01]\\d|2[0-3]):[0-5]\\d',\"00:59\")"
      ],
      "execution_count": 242,
      "outputs": [
        {
          "output_type": "execute_result",
          "data": {
            "text/plain": [
              "<_sre.SRE_Match object; span=(0, 5), match='00:59'>"
            ]
          },
          "metadata": {
            "tags": []
          },
          "execution_count": 242
        }
      ]
    },
    {
      "cell_type": "code",
      "metadata": {
        "id": "W3L9HA25_c-h",
        "colab_type": "code",
        "colab": {
          "base_uri": "https://localhost:8080/",
          "height": 34
        },
        "outputId": "abe298d0-efb5-47a9-cc46-5f918aedc021"
      },
      "source": [
        "row = \"column 1, column 2,column 3\"\n",
        "row.split(\",\")"
      ],
      "execution_count": 243,
      "outputs": [
        {
          "output_type": "execute_result",
          "data": {
            "text/plain": [
              "['column 1', ' column 2', 'column 3']"
            ]
          },
          "metadata": {
            "tags": []
          },
          "execution_count": 243
        }
      ]
    },
    {
      "cell_type": "code",
      "metadata": {
        "id": "esy7Vlj9_cur",
        "colab_type": "code",
        "colab": {
          "base_uri": "https://localhost:8080/",
          "height": 34
        },
        "outputId": "abb88754-24f9-4dd8-ca05-97365288dbd0"
      },
      "source": [
        "re.findall(r'(.*),\\s*',row) #since no comma after column3"
      ],
      "execution_count": 244,
      "outputs": [
        {
          "output_type": "execute_result",
          "data": {
            "text/plain": [
              "['column 1, column 2']"
            ]
          },
          "metadata": {
            "tags": []
          },
          "execution_count": 244
        }
      ]
    },
    {
      "cell_type": "code",
      "metadata": {
        "id": "0ox904NJ_ceu",
        "colab_type": "code",
        "colab": {
          "base_uri": "https://localhost:8080/",
          "height": 34
        },
        "outputId": "e7f24800-ca25-4a4c-c939-6a6ae18be169"
      },
      "source": [
        "re.findall(r'([^,]*),\\s*',row)"
      ],
      "execution_count": 246,
      "outputs": [
        {
          "output_type": "execute_result",
          "data": {
            "text/plain": [
              "['column 1', 'column 2']"
            ]
          },
          "metadata": {
            "tags": []
          },
          "execution_count": 246
        }
      ]
    },
    {
      "cell_type": "code",
      "metadata": {
        "id": "nhzqget4_cZT",
        "colab_type": "code",
        "colab": {
          "base_uri": "https://localhost:8080/",
          "height": 34
        },
        "outputId": "d853b655-2a93-4179-e480-f00ca1532037"
      },
      "source": [
        "re.findall(r'([^,]*),\\s*',\"a,b\")"
      ],
      "execution_count": 247,
      "outputs": [
        {
          "output_type": "execute_result",
          "data": {
            "text/plain": [
              "['a']"
            ]
          },
          "metadata": {
            "tags": []
          },
          "execution_count": 247
        }
      ]
    },
    {
      "cell_type": "code",
      "metadata": {
        "id": "wLTdisnP_cVH",
        "colab_type": "code",
        "colab": {
          "base_uri": "https://localhost:8080/",
          "height": 34
        },
        "outputId": "ad6b6790-ba54-4002-c1d1-e7457a64f945"
      },
      "source": [
        "re.findall(r'([^,]*),\\s*',\"a,b,\")"
      ],
      "execution_count": 248,
      "outputs": [
        {
          "output_type": "execute_result",
          "data": {
            "text/plain": [
              "['a', 'b']"
            ]
          },
          "metadata": {
            "tags": []
          },
          "execution_count": 248
        }
      ]
    },
    {
      "cell_type": "code",
      "metadata": {
        "id": "lN_mDAfCDqYz",
        "colab_type": "code",
        "colab": {
          "base_uri": "https://localhost:8080/",
          "height": 34
        },
        "outputId": "4523160c-9ea3-4010-ce3f-87b338403332"
      },
      "source": [
        "re.findall(r'([^,]*)(,\\s*|$)',row)"
      ],
      "execution_count": 249,
      "outputs": [
        {
          "output_type": "execute_result",
          "data": {
            "text/plain": [
              "[('column 1', ', '), ('column 2', ','), ('column 3', ''), ('', '')]"
            ]
          },
          "metadata": {
            "tags": []
          },
          "execution_count": 249
        }
      ]
    },
    {
      "cell_type": "code",
      "metadata": {
        "id": "-EkvCjgNDqjM",
        "colab_type": "code",
        "colab": {
          "base_uri": "https://localhost:8080/",
          "height": 34
        },
        "outputId": "de60b96c-3573-4178-b6dc-65235d0c5d4e"
      },
      "source": [
        "re.split(r\",\",row)"
      ],
      "execution_count": 250,
      "outputs": [
        {
          "output_type": "execute_result",
          "data": {
            "text/plain": [
              "['column 1', ' column 2', 'column 3']"
            ]
          },
          "metadata": {
            "tags": []
          },
          "execution_count": 250
        }
      ]
    },
    {
      "cell_type": "code",
      "metadata": {
        "id": "4ldCFFeLDqld",
        "colab_type": "code",
        "colab": {
          "base_uri": "https://localhost:8080/",
          "height": 34
        },
        "outputId": "2274069b-bdf5-45fb-f307-7e43ef67318b"
      },
      "source": [
        "re.split(r\",\\s*\", row)"
      ],
      "execution_count": 251,
      "outputs": [
        {
          "output_type": "execute_result",
          "data": {
            "text/plain": [
              "['column 1', 'column 2', 'column 3']"
            ]
          },
          "metadata": {
            "tags": []
          },
          "execution_count": 251
        }
      ]
    },
    {
      "cell_type": "code",
      "metadata": {
        "id": "cNKgWgCiDqcq",
        "colab_type": "code",
        "colab": {}
      },
      "source": [
        "#compile write ones use many time\n",
        "TIME_RE = re.compile(r'^([01]\\d|2[0-3]):[0-5]\\d$')"
      ],
      "execution_count": 0,
      "outputs": []
    },
    {
      "cell_type": "code",
      "metadata": {
        "id": "UoZkUXjjDqOh",
        "colab_type": "code",
        "colab": {
          "base_uri": "https://localhost:8080/",
          "height": 34
        },
        "outputId": "2dd85207-9d94-459e-a870-82dd6a4b49e8"
      },
      "source": [
        "TIME_RE.search(\"00:00\")"
      ],
      "execution_count": 253,
      "outputs": [
        {
          "output_type": "execute_result",
          "data": {
            "text/plain": [
              "<_sre.SRE_Match object; span=(0, 5), match='00:00'>"
            ]
          },
          "metadata": {
            "tags": []
          },
          "execution_count": 253
        }
      ]
    },
    {
      "cell_type": "code",
      "metadata": {
        "id": "GuTFkfbNEnSq",
        "colab_type": "code",
        "colab": {
          "base_uri": "https://localhost:8080/",
          "height": 34
        },
        "outputId": "189d6bb9-db23-4ee1-b633-a9f5013e7310"
      },
      "source": [
        "TIME_RE.split(\"00:00\")"
      ],
      "execution_count": 254,
      "outputs": [
        {
          "output_type": "execute_result",
          "data": {
            "text/plain": [
              "['', '00', '']"
            ]
          },
          "metadata": {
            "tags": []
          },
          "execution_count": 254
        }
      ]
    },
    {
      "cell_type": "code",
      "metadata": {
        "id": "W9H3FXC2eTFm",
        "colab_type": "code",
        "colab": {
          "base_uri": "https://localhost:8080/",
          "height": 34
        },
        "outputId": "3ed13bb1-3c9f-4f13-8451-e898b5bd612c"
      },
      "source": [
        "re.search(r'\".*\"','Maya angee said \"nothing will work unless\"')"
      ],
      "execution_count": 256,
      "outputs": [
        {
          "output_type": "execute_result",
          "data": {
            "text/plain": [
              "<_sre.SRE_Match object; span=(16, 42), match='\"nothing will work unless\"'>"
            ]
          },
          "metadata": {
            "tags": []
          },
          "execution_count": 256
        }
      ]
    },
    {
      "cell_type": "code",
      "metadata": {
        "id": "EczsavrseTRR",
        "colab_type": "code",
        "colab": {
          "base_uri": "https://localhost:8080/",
          "height": 130
        },
        "outputId": "613d5e25-936c-4e7f-b8d6-3221b408c831"
      },
      "source": [
        "re.search(r'\".*\"','You said \"why?\" and I say \"I don't know\"')"
      ],
      "execution_count": 257,
      "outputs": [
        {
          "output_type": "error",
          "ename": "SyntaxError",
          "evalue": "ignored",
          "traceback": [
            "\u001b[0;36m  File \u001b[0;32m\"<ipython-input-257-7152bddaf1ff>\"\u001b[0;36m, line \u001b[0;32m1\u001b[0m\n\u001b[0;31m    re.search(r'\".*\"','You said \"why?\" and I say \"I don't know\"')\u001b[0m\n\u001b[0m                                                        ^\u001b[0m\n\u001b[0;31mSyntaxError\u001b[0m\u001b[0;31m:\u001b[0m invalid syntax\n"
          ]
        }
      ]
    },
    {
      "cell_type": "code",
      "metadata": {
        "id": "Cc2bWsz9eTmE",
        "colab_type": "code",
        "colab": {
          "base_uri": "https://localhost:8080/",
          "height": 34
        },
        "outputId": "67b1779f-1c01-4988-9856-b33ad7a33dac"
      },
      "source": [
        "re.search(r'\".*\"',\"\"\"You said \"Why?\" and I say \"I don't know\".\"\"\")"
      ],
      "execution_count": 261,
      "outputs": [
        {
          "output_type": "execute_result",
          "data": {
            "text/plain": [
              "<_sre.SRE_Match object; span=(9, 40), match='\"Why?\" and I say \"I don\\'t know\"'>"
            ]
          },
          "metadata": {
            "tags": []
          },
          "execution_count": 261
        }
      ]
    },
    {
      "cell_type": "code",
      "metadata": {
        "id": "czIABnwJGPFl",
        "colab_type": "code",
        "colab": {
          "base_uri": "https://localhost:8080/",
          "height": 34
        },
        "outputId": "e519ee74-d77d-4eb2-d85c-1c9c4d110a7a"
      },
      "source": [
        "re.findall(r'\"[^\"]*\"',\"\"\"You said \"Why?\" and I say \"I don't know\".\"\"\")"
      ],
      "execution_count": 262,
      "outputs": [
        {
          "output_type": "execute_result",
          "data": {
            "text/plain": [
              "['\"Why?\"', '\"I don\\'t know\"']"
            ]
          },
          "metadata": {
            "tags": []
          },
          "execution_count": 262
        }
      ]
    },
    {
      "cell_type": "code",
      "metadata": {
        "id": "4SotxDobGPAS",
        "colab_type": "code",
        "colab": {
          "base_uri": "https://localhost:8080/",
          "height": 34
        },
        "outputId": "979c59cf-0934-4bd6-dd0e-daceda105d57"
      },
      "source": [
        "#usually regular exp. are greedy to make it non greedy use \"?\"\n",
        "re.findall(r'\".*?\"',\"\"\"You said \"Why?\" and I say \"I don't know\".\"\"\")"
      ],
      "execution_count": 265,
      "outputs": [
        {
          "output_type": "execute_result",
          "data": {
            "text/plain": [
              "['\"Why?\"', '\"I don\\'t know\"']"
            ]
          },
          "metadata": {
            "tags": []
          },
          "execution_count": 265
        }
      ]
    },
    {
      "cell_type": "code",
      "metadata": {
        "id": "TvVSDCr2GO6c",
        "colab_type": "code",
        "colab": {
          "base_uri": "https://localhost:8080/",
          "height": 34
        },
        "outputId": "75146915-50fd-4e73-81d1-0abbf8beb488"
      },
      "source": [
        "re.findall(\"hi*\",\"hiii\")"
      ],
      "execution_count": 266,
      "outputs": [
        {
          "output_type": "execute_result",
          "data": {
            "text/plain": [
              "['hiii']"
            ]
          },
          "metadata": {
            "tags": []
          },
          "execution_count": 266
        }
      ]
    },
    {
      "cell_type": "code",
      "metadata": {
        "id": "vb5HtMuYGO1K",
        "colab_type": "code",
        "colab": {
          "base_uri": "https://localhost:8080/",
          "height": 34
        },
        "outputId": "499a7b54-b1e5-4d40-e800-25b56947e764"
      },
      "source": [
        "re.findall(\"hi?\",\"hiii\")"
      ],
      "execution_count": 267,
      "outputs": [
        {
          "output_type": "execute_result",
          "data": {
            "text/plain": [
              "['hi']"
            ]
          },
          "metadata": {
            "tags": []
          },
          "execution_count": 267
        }
      ]
    },
    {
      "cell_type": "code",
      "metadata": {
        "id": "Xl6yeJQYHU2P",
        "colab_type": "code",
        "colab": {
          "base_uri": "https://localhost:8080/",
          "height": 34
        },
        "outputId": "4a47f55a-cdf9-4b49-e606-ac2ec775d89d"
      },
      "source": [
        "re.findall(\"hi+\",\"hiii\")"
      ],
      "execution_count": 268,
      "outputs": [
        {
          "output_type": "execute_result",
          "data": {
            "text/plain": [
              "['hiii']"
            ]
          },
          "metadata": {
            "tags": []
          },
          "execution_count": 268
        }
      ]
    },
    {
      "cell_type": "code",
      "metadata": {
        "id": "HPn2lSr0HU_o",
        "colab_type": "code",
        "colab": {
          "base_uri": "https://localhost:8080/",
          "height": 34
        },
        "outputId": "744cd52d-1185-4048-f1a3-963a4bbaf9e0"
      },
      "source": [
        "re.findall(\"hi{2,}\",\"hiii\")"
      ],
      "execution_count": 269,
      "outputs": [
        {
          "output_type": "execute_result",
          "data": {
            "text/plain": [
              "['hiii']"
            ]
          },
          "metadata": {
            "tags": []
          },
          "execution_count": 269
        }
      ]
    },
    {
      "cell_type": "code",
      "metadata": {
        "id": "vSNBC4_DHVN5",
        "colab_type": "code",
        "colab": {
          "base_uri": "https://localhost:8080/",
          "height": 34
        },
        "outputId": "413e8067-b424-46ef-d7c4-d4b27c3c21af"
      },
      "source": [
        "re.findall(\"hi{1,2}\",\"hiii\")"
      ],
      "execution_count": 270,
      "outputs": [
        {
          "output_type": "execute_result",
          "data": {
            "text/plain": [
              "['hii']"
            ]
          },
          "metadata": {
            "tags": []
          },
          "execution_count": 270
        }
      ]
    },
    {
      "cell_type": "code",
      "metadata": {
        "id": "EisGnE7QHVWM",
        "colab_type": "code",
        "colab": {
          "base_uri": "https://localhost:8080/",
          "height": 34
        },
        "outputId": "fa566efb-f8da-40bf-d71e-f7ae13feda6d"
      },
      "source": [
        "re.findall(\"hi*?\",\"hiii\")"
      ],
      "execution_count": 271,
      "outputs": [
        {
          "output_type": "execute_result",
          "data": {
            "text/plain": [
              "['h']"
            ]
          },
          "metadata": {
            "tags": []
          },
          "execution_count": 271
        }
      ]
    },
    {
      "cell_type": "code",
      "metadata": {
        "id": "nNWLjIm6HVju",
        "colab_type": "code",
        "colab": {
          "base_uri": "https://localhost:8080/",
          "height": 34
        },
        "outputId": "f90b31e1-d9ee-4d69-f2cc-9b2bd3c74079"
      },
      "source": [
        "re.findall(\"hi??\",\"hiii\")"
      ],
      "execution_count": 272,
      "outputs": [
        {
          "output_type": "execute_result",
          "data": {
            "text/plain": [
              "['h']"
            ]
          },
          "metadata": {
            "tags": []
          },
          "execution_count": 272
        }
      ]
    },
    {
      "cell_type": "code",
      "metadata": {
        "id": "d5n9aLJ-HVq-",
        "colab_type": "code",
        "colab": {
          "base_uri": "https://localhost:8080/",
          "height": 34
        },
        "outputId": "ed4fce50-7f8a-42d7-d34e-721279a6710c"
      },
      "source": [
        "re.findall(\"hi+?\",\"hiii\")"
      ],
      "execution_count": 273,
      "outputs": [
        {
          "output_type": "execute_result",
          "data": {
            "text/plain": [
              "['hi']"
            ]
          },
          "metadata": {
            "tags": []
          },
          "execution_count": 273
        }
      ]
    },
    {
      "cell_type": "code",
      "metadata": {
        "id": "1ufGHoqBHVl7",
        "colab_type": "code",
        "colab": {
          "base_uri": "https://localhost:8080/",
          "height": 34
        },
        "outputId": "f250933d-3728-497c-ebbf-c02753ead637"
      },
      "source": [
        "re.findall(\"hi{2,}?\",\"hiii\")"
      ],
      "execution_count": 274,
      "outputs": [
        {
          "output_type": "execute_result",
          "data": {
            "text/plain": [
              "['hii']"
            ]
          },
          "metadata": {
            "tags": []
          },
          "execution_count": 274
        }
      ]
    },
    {
      "cell_type": "code",
      "metadata": {
        "id": "LcvFtbPvHVd9",
        "colab_type": "code",
        "colab": {
          "base_uri": "https://localhost:8080/",
          "height": 34
        },
        "outputId": "8efc0558-6686-4698-db43-4b69db03d053"
      },
      "source": [
        "re.findall(\"hi{1,2}?\",\"hiii\")"
      ],
      "execution_count": 276,
      "outputs": [
        {
          "output_type": "execute_result",
          "data": {
            "text/plain": [
              "['hi']"
            ]
          },
          "metadata": {
            "tags": []
          },
          "execution_count": 276
        }
      ]
    },
    {
      "cell_type": "code",
      "metadata": {
        "id": "dXZAxwKQHVZR",
        "colab_type": "code",
        "colab": {
          "base_uri": "https://localhost:8080/",
          "height": 34
        },
        "outputId": "d0023caa-d275-4599-b285-6f41ae2072c3"
      },
      "source": [
        "#substitution\n",
        "sentence = \"This string usess ``smart'' quotes.\"\n",
        "sentence.replace(\"``\",'\"').replace(\"''\",'\"')"
      ],
      "execution_count": 277,
      "outputs": [
        {
          "output_type": "execute_result",
          "data": {
            "text/plain": [
              "'This string usess \"smart\" quotes.'"
            ]
          },
          "metadata": {
            "tags": []
          },
          "execution_count": 277
        }
      ]
    },
    {
      "cell_type": "code",
      "metadata": {
        "id": "I2p2zVP5HVRD",
        "colab_type": "code",
        "colab": {
          "base_uri": "https://localhost:8080/",
          "height": 34
        },
        "outputId": "c7d7d5eb-ace2-47c6-8053-4b9b9a83e5f9"
      },
      "source": [
        "re.sub(r\"``|''\",'\"',sentence)"
      ],
      "execution_count": 278,
      "outputs": [
        {
          "output_type": "execute_result",
          "data": {
            "text/plain": [
              "'This string usess \"smart\" quotes.'"
            ]
          },
          "metadata": {
            "tags": []
          },
          "execution_count": 278
        }
      ]
    },
    {
      "cell_type": "code",
      "metadata": {
        "id": "GKFuUJ1KHVI3",
        "colab_type": "code",
        "colab": {
          "base_uri": "https://localhost:8080/",
          "height": 34
        },
        "outputId": "ee164823-4121-4579-bf71-af65f6e03751"
      },
      "source": [
        "# row\n",
        "re.sub(r',\\s*',',',row)"
      ],
      "execution_count": 281,
      "outputs": [
        {
          "output_type": "execute_result",
          "data": {
            "text/plain": [
              "'column 1,column 2,column 3'"
            ]
          },
          "metadata": {
            "tags": []
          },
          "execution_count": 281
        }
      ]
    },
    {
      "cell_type": "code",
      "metadata": {
        "id": "yG1sIZOkHVD7",
        "colab_type": "code",
        "colab": {
          "base_uri": "https://localhost:8080/",
          "height": 34
        },
        "outputId": "a6eace07-b106-4a97-ddd8-2b7fe69621eb"
      },
      "source": [
        "re.sub(r',\\s+',',', row)"
      ],
      "execution_count": 282,
      "outputs": [
        {
          "output_type": "execute_result",
          "data": {
            "text/plain": [
              "'column 1,column 2,column 3'"
            ]
          },
          "metadata": {
            "tags": []
          },
          "execution_count": 282
        }
      ]
    },
    {
      "cell_type": "code",
      "metadata": {
        "id": "8FEeG25OHU68",
        "colab_type": "code",
        "colab": {
          "base_uri": "https://localhost:8080/",
          "height": 34
        },
        "outputId": "d8b4d1b3-5c73-4d64-836b-17ba85549a77"
      },
      "source": [
        "sentence = \"from 12/22/1629 to 11/14/1643\"\n",
        "re.sub(r\"(\\d{2})/(\\d{2})/(\\d{4})\",r'\\3-\\1-\\2',sentence)"
      ],
      "execution_count": 283,
      "outputs": [
        {
          "output_type": "execute_result",
          "data": {
            "text/plain": [
              "'from 1629-12-22 to 1643-11-14'"
            ]
          },
          "metadata": {
            "tags": []
          },
          "execution_count": 283
        }
      ]
    },
    {
      "cell_type": "code",
      "metadata": {
        "id": "1qJ1VqvWGOIV",
        "colab_type": "code",
        "colab": {
          "base_uri": "https://localhost:8080/",
          "height": 34
        },
        "outputId": "a13602f3-6704-41bc-a373-6b5d2cb659a7"
      },
      "source": [
        "re.findall(r'[\"\\'](.*?)[\"\\']','She said \"not really\"')"
      ],
      "execution_count": 285,
      "outputs": [
        {
          "output_type": "execute_result",
          "data": {
            "text/plain": [
              "['not really']"
            ]
          },
          "metadata": {
            "tags": []
          },
          "execution_count": 285
        }
      ]
    },
    {
      "cell_type": "code",
      "metadata": {
        "id": "On5LYm2seUA9",
        "colab_type": "code",
        "colab": {
          "base_uri": "https://localhost:8080/",
          "height": 34
        },
        "outputId": "9aed5786-ad6b-4477-8314-ba198b71efb1"
      },
      "source": [
        "re.findall(r'[\"\\'](.*?)[\"\\']',\"\"\"You said 'why?' and I say \"I don't know\".\"\"\")"
      ],
      "execution_count": 286,
      "outputs": [
        {
          "output_type": "execute_result",
          "data": {
            "text/plain": [
              "['why?', 'I don']"
            ]
          },
          "metadata": {
            "tags": []
          },
          "execution_count": 286
        }
      ]
    },
    {
      "cell_type": "code",
      "metadata": {
        "id": "TI5YbOAV6eqG",
        "colab_type": "code",
        "colab": {
          "base_uri": "https://localhost:8080/",
          "height": 34
        },
        "outputId": "916c7a74-771c-4a6e-bbf8-4b0a9f5aacd9"
      },
      "source": [
        "#matching the same quote\n",
        "re.findall(r'([\"\\'])(.*?)\\1',\"\"\"You said 'why?' and I say \"I don't know\".\"\"\")"
      ],
      "execution_count": 288,
      "outputs": [
        {
          "output_type": "execute_result",
          "data": {
            "text/plain": [
              "[(\"'\", 'why?'), ('\"', \"I don't know\")]"
            ]
          },
          "metadata": {
            "tags": []
          },
          "execution_count": 288
        }
      ]
    },
    {
      "cell_type": "code",
      "metadata": {
        "id": "hnapEOXG6JZd",
        "colab_type": "code",
        "colab": {
          "base_uri": "https://localhost:8080/",
          "height": 34
        },
        "outputId": "f918ba82-a1e5-4b62-de95-630e493f16e1"
      },
      "source": [
        "re.findall(r'(?:[\"\\'])(.*?)\\1',\"\"\"You said 'why?' and I say \"I don't know\".\"\"\")"
      ],
      "execution_count": 289,
      "outputs": [
        {
          "output_type": "execute_result",
          "data": {
            "text/plain": [
              "['', '', '', '', '']"
            ]
          },
          "metadata": {
            "tags": []
          },
          "execution_count": 289
        }
      ]
    },
    {
      "cell_type": "code",
      "metadata": {
        "id": "dAHz5y3Y7AQg",
        "colab_type": "code",
        "colab": {
          "base_uri": "https://localhost:8080/",
          "height": 34
        },
        "outputId": "4736a481-489e-4a38-d5d4-4e78095ca8c7"
      },
      "source": [
        "re.findall(r'([\"\\'])(.*?)\\1',\"\"\"You said 'why?' and I say \"I don't know\".\"\"\")"
      ],
      "execution_count": 290,
      "outputs": [
        {
          "output_type": "execute_result",
          "data": {
            "text/plain": [
              "[(\"'\", 'why?'), ('\"', \"I don't know\")]"
            ]
          },
          "metadata": {
            "tags": []
          },
          "execution_count": 290
        }
      ]
    },
    {
      "cell_type": "code",
      "metadata": {
        "id": "kvdo4CsG7AV_",
        "colab_type": "code",
        "colab": {
          "base_uri": "https://localhost:8080/",
          "height": 51
        },
        "outputId": "1a14feeb-8373-4620-e843-f1830d39f2a0"
      },
      "source": [
        "for m in re.finditer(r'([\"\\'])(.*?)\\1',\"\"\"You said 'why?' and I say \"I don't know\".\"\"\"):\n",
        "  print(m.group(2))\n"
      ],
      "execution_count": 292,
      "outputs": [
        {
          "output_type": "stream",
          "text": [
            "why?\n",
            "I don't know\n"
          ],
          "name": "stdout"
        }
      ]
    },
    {
      "cell_type": "code",
      "metadata": {
        "id": "5F9tYKxS7AbS",
        "colab_type": "code",
        "colab": {
          "base_uri": "https://localhost:8080/",
          "height": 51
        },
        "outputId": "d159e27b-97c6-41a1-9e36-204eb42ca7bd"
      },
      "source": [
        "for m in re.finditer(r'([\"\\'])(.*?)\\1',\"\"\"You said 'why?' and I say \"I don't know\".\"\"\"):\n",
        "  print(m.group(1))\n"
      ],
      "execution_count": 293,
      "outputs": [
        {
          "output_type": "stream",
          "text": [
            "'\n",
            "\"\n"
          ],
          "name": "stdout"
        }
      ]
    },
    {
      "cell_type": "code",
      "metadata": {
        "id": "7coJFSei7AgA",
        "colab_type": "code",
        "colab": {
          "base_uri": "https://localhost:8080/",
          "height": 34
        },
        "outputId": "96af4c99-97df-4778-d910-0641409ea2bf"
      },
      "source": [
        "#naming subsitution group\n",
        "re.sub(r'(?P<month>\\d{2})/(?P<day>\\d{2})/(?P<year>\\d{4})',\n",
        "       r'\\g<year>-\\g<month>-\\g<day>', sentence)"
      ],
      "execution_count": 295,
      "outputs": [
        {
          "output_type": "execute_result",
          "data": {
            "text/plain": [
              "'from 1629-12-22 to 1643-11-14'"
            ]
          },
          "metadata": {
            "tags": []
          },
          "execution_count": 295
        }
      ]
    }
  ]
}